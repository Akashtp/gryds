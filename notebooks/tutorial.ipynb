{
 "cells": [
  {
   "cell_type": "code",
   "execution_count": null,
   "metadata": {},
   "outputs": [],
   "source": [
    "%matplotlib inline\n",
    "import numpy as np\n",
    "import matplotlib.pyplot as plt\n",
    "import sys\n",
    "\n",
    "sys.path.append('..')\n",
    "import gryds\n",
    "import scipy\n",
    "plt.rcParams['image.cmap'] = 'gray'"
   ]
  },
  {
   "cell_type": "markdown",
   "metadata": {},
   "source": [
    "# Gryds: a Python package for geometric transformations for augmentations in deep learning\n",
    "\n",
    "This package enables you to make fast geometric transformations of images for the purpose of data augmentation in deep learning. The supported geometric transformations are\n",
    "* Translations\n",
    "* Rigid transformations (translation + rotation)\n",
    "* Similarity transformations (translation + rotation + isotropic scaling)\n",
    "* Affine transformations (translation + rotation + arbitrary scaling + shearing)\n",
    "* Deformable transformations (modeled as B-splines)\n",
    "\n",
    "The tutorial below shows most functionality of this package. A small minimal working example is shown at the [end](#mwe).\n",
    "\n",
    "To get started, we load the example image, and fashion it with some grid lines to show what each of the transformations do. The tutorial is using a 2D image, but in principle all code should generalize to arbitrary dimensions."
   ]
  },
  {
   "cell_type": "code",
   "execution_count": null,
   "metadata": {},
   "outputs": [],
   "source": [
    "image = plt.imread('lung_ct.png')\n",
    "image = image[:, :, 0] # The image was loaded as RGB color image, but we only need one channel.\n",
    "image[10::20] = 1\n",
    "image[11::20] = 1\n",
    "image[:, 10::20] = 1\n",
    "image[:, 11::20] = 1"
   ]
  },
  {
   "cell_type": "code",
   "execution_count": null,
   "metadata": {},
   "outputs": [],
   "source": [
    "plt.imshow(image)"
   ]
  },
  {
   "cell_type": "markdown",
   "metadata": {},
   "source": [
    "## Transformations and interpolations, an example using translations\n",
    "\n",
    "Spatial image transformations move the *sampling grid* of an image. This means that the effect of a transformation has the opposite effect on the image itself. For example, a translation to the *right* means that the *grid* is translated to the right, which means that the objects in you image move to the *left*. You can compare this to a camera: if you move the camera to the right, the objects on the picture will move to the left.\n",
    "\n",
    "Let's make a translation transform that moves the image by 10% to the left:"
   ]
  },
  {
   "cell_type": "code",
   "execution_count": null,
   "metadata": {},
   "outputs": [],
   "source": [
    "my_translation = gryds.TranslationTransformation([0, 0.1])"
   ]
  },
  {
   "cell_type": "markdown",
   "metadata": {},
   "source": [
    "As you can see, the translation is defined in terms of *image indices* $i, j$, and not in terms of coordinates $x,y$. A translation of 10% to the left means that we have to move the sampling grid 10% to the right, which means we have to move the $j$-axis of the grid.\n",
    "\n",
    "We can move points to check this. Here we move the point $(0.5, 0.5)$ which is the center of the grid:"
   ]
  },
  {
   "cell_type": "code",
   "execution_count": null,
   "metadata": {},
   "outputs": [],
   "source": [
    "my_translation.transform([[0.5], [0.5]])"
   ]
  },
  {
   "cell_type": "markdown",
   "metadata": {},
   "source": [
    "As you can see, the $j$-component has been shifted 10% to the right. When we apply the transformation to the image it can happen that the transformed grid points fall in between the points on the original grid. That is why we need to use an interpolator for this image. By default, we use a third-order B-spline interpolator.\n",
    "\n",
    "**This is different from the B-spline we use to *deform* images later on!**"
   ]
  },
  {
   "cell_type": "code",
   "execution_count": null,
   "metadata": {},
   "outputs": [],
   "source": [
    "my_image_interpolator = gryds.Interpolator(image)"
   ]
  },
  {
   "cell_type": "markdown",
   "metadata": {},
   "source": [
    "We can transform the interpolator, to show the result:"
   ]
  },
  {
   "cell_type": "code",
   "execution_count": null,
   "metadata": {},
   "outputs": [],
   "source": [
    "my_translated_image = my_image_interpolator.transform(my_translation)\n",
    "plt.imshow(my_translated_image);"
   ]
  },
  {
   "cell_type": "markdown",
   "metadata": {},
   "source": [
    "As you can see, the image has been shifted 10% to the left!"
   ]
  },
  {
   "cell_type": "markdown",
   "metadata": {},
   "source": [
    "## Transformations via Grids\n",
    "\n",
    "The `transform` method of the `Interpolator` object in the example above applies the translation to the image's grid. The following code is equivalent, but explicitly defines the Grid, transforms it, and uses the interpolator to resample on this grid:"
   ]
  },
  {
   "cell_type": "code",
   "execution_count": null,
   "metadata": {},
   "outputs": [],
   "source": [
    "my_image_grid = gryds.Grid(image.shape)  # makes a Grid the size of the image\n",
    "my_translated_image_grid = my_image_grid.transform(my_translation)\n",
    "my_translated_image = my_image_interpolator.resample(my_translated_image_grid)"
   ]
  },
  {
   "cell_type": "code",
   "execution_count": null,
   "metadata": {},
   "outputs": [],
   "source": [
    "plt.imshow(my_translated_image);"
   ]
  },
  {
   "cell_type": "markdown",
   "metadata": {},
   "source": [
    "You can see what this transformation does to the grid by calculating the difference with the original grid:"
   ]
  },
  {
   "cell_type": "code",
   "execution_count": null,
   "metadata": {},
   "outputs": [],
   "source": [
    "my_translated_image_grid.grid - my_image_grid.grid"
   ]
  },
  {
   "cell_type": "markdown",
   "metadata": {},
   "source": [
    "## More advanced linear transformations\n",
    "\n",
    "In a linear transformation, the transformation of points can be expressed as $\\mathbf{x}_{new} = A \\mathbf{x}_{old} + \\mathbf{b}$, where $A$ is a matrix and $\\mathbf{b}$ is a translation vector. Again note that the transformation has the opposite effect on the image itself.\n",
    "\n",
    "We define linear transformations in a matrix $[A, \\mathbf{b}]$, for example, a 45° rotation can be defined as"
   ]
  },
  {
   "cell_type": "code",
   "execution_count": null,
   "metadata": {},
   "outputs": [],
   "source": [
    "angle = np.pi / 4.\n",
    "my_rotation_matrix = [\n",
    "    [np.cos(angle), -np.sin(angle), 0],\n",
    "    [np.sin(angle), np.cos(angle), 0]\n",
    "]"
   ]
  },
  {
   "cell_type": "markdown",
   "metadata": {},
   "source": [
    "The transformation can be defined as"
   ]
  },
  {
   "cell_type": "code",
   "execution_count": null,
   "metadata": {},
   "outputs": [],
   "source": [
    "my_rotation = gryds.LinearTransformation(my_rotation_matrix)"
   ]
  },
  {
   "cell_type": "markdown",
   "metadata": {},
   "source": [
    "that we can now apply to the image:"
   ]
  },
  {
   "cell_type": "code",
   "execution_count": null,
   "metadata": {
    "scrolled": false
   },
   "outputs": [],
   "source": [
    "my_rotated_image = my_image_interpolator.transform(my_rotation)\n",
    "plt.imshow(my_rotated_image);"
   ]
  },
  {
   "cell_type": "markdown",
   "metadata": {},
   "source": [
    "Note that the center of rotation is the upper left corner (the $(0, 0)$ coordinate). We can change that by using the utility function `affine_matrix` that creates new linear matrices based on more meaningful parameters:"
   ]
  },
  {
   "cell_type": "code",
   "execution_count": null,
   "metadata": {},
   "outputs": [],
   "source": [
    "my_rotation = gryds.AffineTransformation(\n",
    "    ndim=2,\n",
    "    angles=[np.pi/4.], # List of angles (for 3D transformations you need a list of 3 angles).\n",
    "    center=[0.5, 0.5]  # Center of rotation.\n",
    ")\n",
    "my_rotated_image = my_image_interpolator.transform(my_rotation)\n",
    "plt.imshow(my_rotated_image);"
   ]
  },
  {
   "cell_type": "markdown",
   "metadata": {},
   "source": [
    "Notice that the image shows a clockwise rotation of the objects in the image, but that the definition of the transformation was counter clockwise. Again, this is because a counter clockwise rotation of the sampling grid results in a clockwise rotation of the objects in the image.\n",
    "\n",
    "We can make more complicated transformations too, using more parameters, resulting in affine transformations."
   ]
  },
  {
   "cell_type": "code",
   "execution_count": null,
   "metadata": {
    "scrolled": true
   },
   "outputs": [],
   "source": [
    "my_affine_transformation = gryds.AffineTransformation(\n",
    "    ndim=2,\n",
    "    angles=[np.pi/10.], # the rotation angle\n",
    "    scaling=[1.2, 1.2], # the anisotropic scaling\n",
    "    shear_matrix=[[1, 0.5], [0, 1]], # shearing matrix\n",
    "    translation=[0., 0.], # translation\n",
    "    center=[0.5, 0.5] # center of rotation\n",
    ")\n",
    "my_affine_image = my_image_interpolator.transform(my_affine_transformation)\n",
    "plt.imshow(my_affine_image);"
   ]
  },
  {
   "cell_type": "markdown",
   "metadata": {},
   "source": [
    "## Deformable transformations\n",
    "\n",
    "\n",
    "Fully deformable transformations are great for biomedical applications, because it can transform biological tissue in a more or less realistic way.\n",
    "\n",
    "Deformable transformations are implemented as B-spline transformations. They are defined as *displacements* on a grid. For two-dimensional images we implement two grids, one for the displacements in the $i$-directions, and one for the displacements in the $j$-directions, so for example, for a 3x3 grid:"
   ]
  },
  {
   "cell_type": "code",
   "execution_count": null,
   "metadata": {},
   "outputs": [],
   "source": [
    "disp_i = np.array([\n",
    "    [0.04, 0.02, 0.04],\n",
    "    [-0.04, 0.01, -0.04],\n",
    "    [-0.04, -0.01, -0.04]\n",
    "])\n",
    "disp_j = np.array([\n",
    "    [0.04, -0.03, -0.05],\n",
    "    [0.02, 0.03, 0.05],\n",
    "    [0.02, -0.04, -0.05]\n",
    "])"
   ]
  },
  {
   "cell_type": "markdown",
   "metadata": {},
   "source": [
    "We then create a B-spline transformation"
   ]
  },
  {
   "cell_type": "code",
   "execution_count": null,
   "metadata": {},
   "outputs": [],
   "source": [
    "my_bspline_transformation = gryds.BSplineTransformation([disp_i, disp_j])"
   ]
  },
  {
   "cell_type": "markdown",
   "metadata": {},
   "source": [
    "and apply it to the image:"
   ]
  },
  {
   "cell_type": "code",
   "execution_count": null,
   "metadata": {},
   "outputs": [],
   "source": [
    "my_deformed_image = my_image_interpolator.transform(my_bspline_transformation)\n",
    "plt.imshow(my_deformed_image);"
   ]
  },
  {
   "cell_type": "markdown",
   "metadata": {},
   "source": [
    "Beware of folding and tearing of the image. If you make the displacements too large, or the grid too fine, you will end up with unrealistic deformations, from which your network will likely be unable to learn anything useful."
   ]
  },
  {
   "cell_type": "code",
   "execution_count": null,
   "metadata": {},
   "outputs": [],
   "source": [
    "my_folding_bspline_transformation = gryds.BSplineTransformation([10*disp_i, 10*disp_j])\n",
    "my_terribly_deformed_image = my_image_interpolator.transform(my_folding_bspline_transformation)\n",
    "plt.imshow(my_terribly_deformed_image);"
   ]
  },
  {
   "cell_type": "markdown",
   "metadata": {},
   "source": [
    "### Checking for folding using the Jacobian\n",
    "You can inspect the folding by computing the Jacobian determinant on a `Grid` object. Wherever the Jacobian determinant is below zero, the image has folded, and information has disappeared."
   ]
  },
  {
   "cell_type": "code",
   "execution_count": null,
   "metadata": {},
   "outputs": [],
   "source": [
    "my_grid = gryds.Grid(image.shape)\n",
    "jac_det = my_grid.jacobian_det(my_folding_bspline_transformation)\n",
    "\n",
    "fig, ax = plt.subplots(1, 2)\n",
    "ax[0].imshow(jac_det, vmin=-2e-5, vmax=5e-5);\n",
    "ax[1].imshow(jac_det < 0);\n",
    "ax[0].set_title('Jacobian determinant');\n",
    "ax[1].set_title('Folding map');"
   ]
  },
  {
   "cell_type": "markdown",
   "metadata": {},
   "source": [
    "For the well-behaved B-spline transformation we had before, the Jacobian does not show folding:"
   ]
  },
  {
   "cell_type": "code",
   "execution_count": null,
   "metadata": {},
   "outputs": [],
   "source": [
    "my_grid = gryds.Grid(image.shape)\n",
    "jac_det = my_grid.jacobian_det(my_bspline_transformation)\n",
    "\n",
    "fig, ax = plt.subplots(1, 2)\n",
    "ax[0].imshow(jac_det, vmin=-2e-5, vmax=5e-5);\n",
    "ax[1].imshow(jac_det < 0);\n",
    "ax[0].set_title('Jacobian determinant');\n",
    "ax[1].set_title('Folding map');"
   ]
  },
  {
   "cell_type": "markdown",
   "metadata": {},
   "source": [
    "### Plotting the displacement field\n",
    "The displacement field can be plotted using a `Grid` object. The displacement field is the difference between the transformed grid and the original grid."
   ]
  },
  {
   "cell_type": "code",
   "execution_count": null,
   "metadata": {},
   "outputs": [],
   "source": [
    "my_grid = gryds.Grid(image.shape)\n",
    "transformed_grid = my_grid.transform(my_folding_bspline_transformation)\n",
    "displacement_field = transformed_grid.grid - my_grid.grid\n",
    "\n",
    "fig, ax = plt.subplots(1, 2)\n",
    "ax[0].imshow(**gryds.dfm_show(displacement_field[0]));\n",
    "ax[1].imshow(**gryds.dfm_show(displacement_field[1]));\n",
    "ax[0].set_title('$u_x$');\n",
    "ax[1].set_title('$u_y$');"
   ]
  },
  {
   "cell_type": "markdown",
   "metadata": {},
   "source": [
    "## Combining transformations\n",
    "\n",
    "You can concatenate transformations (for example affine and a B-spline transformations) by simply putting a list of transformations to the `transform()` method of a interpolator. Note that the transformations are applied in reverse order. Again, this is because the transformations are applied to the sampling grid rather than the images. The example below first applies the 10% translation from above *first*, *then* the 45° rotation around the (0.5, 0.5) in the resulting image (!), and *then* the B-spline transformation. Even though multiple transformations are applied, the are all applied to the grid first before any interpolation in the image is performed."
   ]
  },
  {
   "cell_type": "code",
   "execution_count": null,
   "metadata": {
    "scrolled": false
   },
   "outputs": [],
   "source": [
    "composed = gryds.ComposedTransformation(my_bspline_transformation, my_rotation, my_translation)\n",
    "twice_transformed_image = my_image_interpolator.transform(composed)\n",
    "plt.imshow(twice_transformed_image);"
   ]
  },
  {
   "cell_type": "markdown",
   "metadata": {},
   "source": [
    "### Border modes when combining B-spline transformations\n",
    "\n",
    "The BSplineTransformation has options for dealing with displacements at the border of the grid. These are similar to the interpolation options below. Options include 'constant', 'nearest', 'mirror', 'reflect', or 'wrap'. In most cases, only 'constant' and 'mirror' are useful. When using one transformation, these paramters do not change anything:"
   ]
  },
  {
   "cell_type": "code",
   "execution_count": null,
   "metadata": {},
   "outputs": [],
   "source": [
    "bs_grid = 0.5 * (np.random.rand(2, 2, 2) - 0.5)"
   ]
  },
  {
   "cell_type": "code",
   "execution_count": null,
   "metadata": {},
   "outputs": [],
   "source": [
    "my_bspline_transformation_constant = gryds.BSplineTransformation(bs_grid, mode='constant')\n",
    "my_bspline_transformation_mirror = gryds.BSplineTransformation(bs_grid, mode='mirror')\n",
    "my_deformed_image_constant = my_image_interpolator.transform(my_bspline_transformation_constant)\n",
    "my_deformed_image_mirror = my_image_interpolator.transform(my_bspline_transformation_mirror)\n",
    "fig, ax = plt.subplots(1, 3, figsize=(15, 5))\n",
    "ax[0].imshow(my_deformed_image_constant); ax[0].set_title('Constant')\n",
    "ax[1].imshow(my_deformed_image_mirror); ax[1].set_title('Mirror')\n",
    "ax[2].imshow(my_deformed_image_constant - my_deformed_image_mirror); ax[2].set_title('Difference')"
   ]
  },
  {
   "cell_type": "markdown",
   "metadata": {},
   "source": [
    "When combining transformations, there *is* a difference:"
   ]
  },
  {
   "cell_type": "code",
   "execution_count": null,
   "metadata": {},
   "outputs": [],
   "source": [
    "my_affine_transformation = gryds.AffineTransformation(ndim=2, center=[0.5, 0.5], scaling=[1.5, 1.5])\n",
    "my_deformed_image_constant = my_image_interpolator.transform(gryds.ComposedTransformation(my_affine_transformation, my_bspline_transformation_constant))\n",
    "my_deformed_image_mirror = my_image_interpolator.transform(gryds.ComposedTransformation(my_affine_transformation, my_bspline_transformation_mirror))\n",
    "fig, ax = plt.subplots(1, 3, figsize=(15, 5))\n",
    "ax[0].imshow(my_deformed_image_constant); ax[0].set_title('Constant');\n",
    "ax[1].imshow(my_deformed_image_mirror); ax[1].set_title('Mirror');\n",
    "ax[2].imshow(my_deformed_image_constant - my_deformed_image_mirror); ax[2].set_title('Difference');"
   ]
  },
  {
   "cell_type": "markdown",
   "metadata": {},
   "source": [
    "This is explained better when looking at the deformation fields, that clearly show that in the 'constant' case, the transformations are *not* combined outside the transformed 'frame' of the original image, which is particularly visible when using a scaling operation *after* a B-spline:"
   ]
  },
  {
   "cell_type": "code",
   "execution_count": null,
   "metadata": {},
   "outputs": [],
   "source": [
    "grid = gryds.Grid((500, 500))\n",
    "grid_t_constant = grid.transform(gryds.ComposedTransformation(my_affine_transformation, my_bspline_transformation_constant))\n",
    "grid_t_mirror = grid.transform(gryds.ComposedTransformation(my_affine_transformation, my_bspline_transformation_mirror))\n",
    "\n",
    "fig, ax = plt.subplots(1, 6, figsize=(15, 5))\n",
    "ax[0].imshow(**gryds.dfm_show(grid_t_constant.grid[0] - grid.grid[0])); ax[0].set_title('$u_x$, constant');\n",
    "ax[1].imshow(**gryds.dfm_show(grid_t_constant.grid[1] - grid.grid[1])); ax[1].set_title('$u_y$, constant');\n",
    "ax[2].imshow(**gryds.dfm_show(grid_t_mirror.grid[0] - grid.grid[0])); ax[2].set_title('$u_x$, mirror');\n",
    "ax[3].imshow(**gryds.dfm_show(grid_t_mirror.grid[1] - grid.grid[1])); ax[3].set_title('$u_y$, mirror');\n",
    "ax[4].imshow(**gryds.dfm_show(grid_t_mirror.grid[0] - grid_t_constant.grid[0])); ax[4].set_title('$u_x$, diff');\n",
    "ax[5].imshow(**gryds.dfm_show(grid_t_mirror.grid[1] - grid_t_constant.grid[1])); ax[5].set_title('$u_y$, diff');"
   ]
  },
  {
   "cell_type": "markdown",
   "metadata": {},
   "source": [
    "Hence, if you combine multiple transformations, *do* use the 'mirror' mode."
   ]
  },
  {
   "cell_type": "markdown",
   "metadata": {},
   "source": [
    "# Interpolation options\n",
    "The Interpolation object has parameters for which order of B-spline should be used, as well as how the interpolator should extrapolate. The options are\n",
    "* `order`: The order of the B-spline used for interpolation.\n",
    "* `mode`: Any of ‘constant’, ‘nearest’, 'mirror', ‘reflect’ or ‘wrap’.\n",
    "* `cval`: The background value for `mode='constant'`"
   ]
  },
  {
   "cell_type": "markdown",
   "metadata": {},
   "source": [
    "### Different background intensity"
   ]
  },
  {
   "cell_type": "code",
   "execution_count": null,
   "metadata": {},
   "outputs": [],
   "source": [
    "my_image_interpolator = gryds.Interpolator(image, order=0, cval=1)\n",
    "tr_image = my_image_interpolator.transform(my_rotation)\n",
    "plt.imshow(tr_image);"
   ]
  },
  {
   "cell_type": "markdown",
   "metadata": {},
   "source": [
    "### Border-modes"
   ]
  },
  {
   "cell_type": "code",
   "execution_count": null,
   "metadata": {},
   "outputs": [],
   "source": [
    "fig, ax = plt.subplots(1, 5, figsize=(20, 5));\n",
    "for i, mode in enumerate(['constant', 'nearest', 'reflect', 'mirror', 'wrap']):\n",
    "    my_image_interpolator = gryds.Interpolator(image, mode=mode)\n",
    "    tr_image = my_image_interpolator.transform(my_rotation)\n",
    "    ax[i].imshow(tr_image);\n",
    "    ax[i].set_title(mode);"
   ]
  },
  {
   "cell_type": "markdown",
   "metadata": {},
   "source": [
    "### B-spline orders"
   ]
  },
  {
   "cell_type": "code",
   "execution_count": null,
   "metadata": {
    "scrolled": false
   },
   "outputs": [],
   "source": [
    "fig, ax = plt.subplots(1, 6, figsize=(20, 5));\n",
    "for i in range(6):\n",
    "    my_image_interpolator = gryds.Interpolator(image, order=i)\n",
    "    tr_image = my_image_interpolator.transform(my_rotation)\n",
    "    ax[i].imshow(tr_image);\n",
    "    ax[i].set_title('Order {}'.format(i));"
   ]
  },
  {
   "cell_type": "markdown",
   "metadata": {},
   "source": [
    "<a name=\"mwe\"></a>\n",
    "# A minimal working example for data augmentation"
   ]
  },
  {
   "cell_type": "markdown",
   "metadata": {},
   "source": [
    "You can use the numpy.random module to make random transformations. During training of your network you can implement something like the code below:"
   ]
  },
  {
   "cell_type": "code",
   "execution_count": null,
   "metadata": {
    "scrolled": false
   },
   "outputs": [],
   "source": [
    "fig, ax = plt.subplots(5, 5, figsize=(15, 15));\n",
    "ax = ax.flatten()\n",
    "[x.set_axis_off() for x in ax];\n",
    "\n",
    "for i in range(25):\n",
    "    random_grid = np.random.rand(2, 3, 3) # Make a random 2D 3 x 3 grid\n",
    "    random_grid -= 0.5 # Move the displacements to the -0.5 to 0.5 grid\n",
    "    random_grid /= 5 # Scale the grid to -0.1 to 0.1 displacements\n",
    "\n",
    "    my_augmentation = gryds.BSplineTransformation(random_grid)\n",
    "    my_augmented_image = my_image_interpolator.transform(my_augmentation)\n",
    "\n",
    "    ax[i].imshow(my_augmented_image);"
   ]
  }
 ],
 "metadata": {
  "kernelspec": {
   "display_name": "Python 3",
   "language": "python",
   "name": "python3"
  },
  "language_info": {
   "codemirror_mode": {
    "name": "ipython",
    "version": 3
   },
   "file_extension": ".py",
   "mimetype": "text/x-python",
   "name": "python",
   "nbconvert_exporter": "python",
   "pygments_lexer": "ipython3",
   "version": "3.6.8"
  }
 },
 "nbformat": 4,
 "nbformat_minor": 2
}
